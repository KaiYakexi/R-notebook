{
 "cells": [
  {
   "cell_type": "markdown",
   "id": "17ca8461-8874-4104-8d00-836b2ea6b46a",
   "metadata": {},
   "source": [
    "# Additive Factor Model Implementation\n",
    "**Author:** Kaimao Sheng <br>\n",
    "**Email:** kai.s.yakexi@gmail.com "
   ]
  },
  {
   "cell_type": "markdown",
   "id": "ae20230b-9635-498d-93cc-01088dc30e7f",
   "metadata": {},
   "source": [
    "1. [Introduction](##introduction)\n",
    "2. [Student Model AFM-QT](##student-model-afm-qt)\n",
    "3. [Compare to AFM](##compare-to-afm)\n",
    "4. [Reference](##reference)"
   ]
  },
  {
   "cell_type": "markdown",
   "id": "37854b15-59ac-4f47-b1cb-38fd722db681",
   "metadata": {},
   "source": [
    "## Introduction"
   ]
  },
  {
   "cell_type": "markdown",
   "id": "388b65fb-c8d7-4675-957b-903ce0f8401a",
   "metadata": {},
   "source": [
    "This is an AFM implementation with the Geometry Area dataset from [DataShop](https://pslcdatashop.web.cmu.edu/index.jsp) <br>\n",
    "Dataset: Geometry Area (1996-97)<br>\n",
    "Sample(s): All Data<br>\n",
    "KC Model: orig_difficulty<br>"
   ]
  },
  {
   "cell_type": "markdown",
   "id": "14c0c08c-9f5b-49f9-b7ef-ccf94a24b903",
   "metadata": {},
   "source": [
    "## Student Model AFM-QT"
   ]
  },
  {
   "cell_type": "markdown",
   "id": "aceafe9d-b025-45db-b263-64014618fc3b",
   "metadata": {},
   "source": [
    "Student model [AFM-QT](https://dl.acm.org/doi/abs/10.1145/3303772.3303827) was introduced to model response time of students (Chounta, 2019).<br>\n",
    "$$ AFM\\text{-}QT = \\text{Outcome} \\sim \\text{Student} + \\text{KC} + \\text{KC:Opportunity} + \\text{step\\_duration} + (\\text{step\\_duration})^2 $$\n",
    "\n",
    "- Outcome is the result per step:\n",
    "    - correct note as 1\n",
    "    - incorrect note as 0\n",
    "    - hint note as 0\n",
    "<br>\n",
    "- $Student$ is student ID<br>\n",
    "- $\\text{KC}$ is the skill involved in this step<br>\n",
    "- $\\text{KC:Opportunity}$ stands for the number of previous attempts a student had on this particular skill.<br>\n",
    "- $\\text{step\\_duration}$ is the time the student took to carry out this step (in seconds)<br>"
   ]
  },
  {
   "cell_type": "code",
   "execution_count": 1,
   "id": "5b0438f9-31f7-4388-a8a3-febe2e526c9f",
   "metadata": {},
   "outputs": [],
   "source": [
    "testdata <- read.delim(\"./student_step/ds76_student_step_All_Data_74_2024_1207_190236.txt\", header = TRUE, quote=\"\\\"\", dec=\".\", comment.char=\"\")"
   ]
  },
  {
   "cell_type": "code",
   "execution_count": 2,
   "id": "9b346408-6dd3-4ff9-8832-e9915e412ef2",
   "metadata": {},
   "outputs": [
    {
     "data": {
      "text/html": [
       "<table class=\"dataframe\">\n",
       "<caption>A data.frame: 6 × 22</caption>\n",
       "<thead>\n",
       "\t<tr><th></th><th scope=col>Row</th><th scope=col>Sample</th><th scope=col>Anon.Student.Id</th><th scope=col>Problem.Hierarchy</th><th scope=col>Problem.Name</th><th scope=col>Problem.View</th><th scope=col>Step.Name</th><th scope=col>Step.Start.Time</th><th scope=col>First.Transaction.Time</th><th scope=col>Correct.Transaction.Time</th><th scope=col>⋯</th><th scope=col>Correct.Step.Duration..sec.</th><th scope=col>Error.Step.Duration..sec.</th><th scope=col>First.Attempt</th><th scope=col>Incorrects</th><th scope=col>Hints</th><th scope=col>Corrects</th><th scope=col>Condition</th><th scope=col>KC..Original.</th><th scope=col>Opportunity..Original.</th><th scope=col>Predicted.Error.Rate..Original.</th></tr>\n",
       "\t<tr><th></th><th scope=col>&lt;int&gt;</th><th scope=col>&lt;chr&gt;</th><th scope=col>&lt;chr&gt;</th><th scope=col>&lt;chr&gt;</th><th scope=col>&lt;chr&gt;</th><th scope=col>&lt;int&gt;</th><th scope=col>&lt;chr&gt;</th><th scope=col>&lt;chr&gt;</th><th scope=col>&lt;chr&gt;</th><th scope=col>&lt;chr&gt;</th><th scope=col>⋯</th><th scope=col>&lt;chr&gt;</th><th scope=col>&lt;chr&gt;</th><th scope=col>&lt;chr&gt;</th><th scope=col>&lt;int&gt;</th><th scope=col>&lt;int&gt;</th><th scope=col>&lt;int&gt;</th><th scope=col>&lt;chr&gt;</th><th scope=col>&lt;chr&gt;</th><th scope=col>&lt;int&gt;</th><th scope=col>&lt;dbl&gt;</th></tr>\n",
       "</thead>\n",
       "<tbody>\n",
       "\t<tr><th scope=row>1</th><td>1</td><td>All Data</td><td>Stu_c0bf45c22dc46067350d304ce330067e</td><td>Unit Area</td><td>BUILDING_A_SIDEWALK</td><td>1</td><td>(POOL-AREA QUESTION1)           </td><td>1996-02-01 00:03:49</td><td>1996-02-01 00:03:49</td><td>1996-02-01 00:03:49</td><td>⋯</td><td>0 </td><td>.</td><td>correct</td><td>0</td><td>0</td><td>1</td><td>.</td><td>ALT:PARALLELOGRAM-AREA</td><td>2</td><td>0.2827</td></tr>\n",
       "\t<tr><th scope=row>2</th><td>2</td><td>All Data</td><td>Stu_c0bf45c22dc46067350d304ce330067e</td><td>Unit Area</td><td>BUILDING_A_SIDEWALK</td><td>1</td><td>(POOL-AREA QUESTION2)           </td><td>1996-02-01 00:03:58</td><td>1996-02-01 00:04:24</td><td>1996-02-01 00:04:24</td><td>⋯</td><td>26</td><td>.</td><td>correct</td><td>0</td><td>0</td><td>1</td><td>.</td><td>ALT:PARALLELOGRAM-AREA</td><td>4</td><td>0.2783</td></tr>\n",
       "\t<tr><th scope=row>3</th><td>3</td><td>All Data</td><td>Stu_c0bf45c22dc46067350d304ce330067e</td><td>Unit Area</td><td>BUILDING_A_SIDEWALK</td><td>1</td><td>(POOL-AREA QUESTION3)           </td><td>1996-02-01 00:04:31</td><td>1996-02-01 00:04:43</td><td>1996-02-01 00:04:43</td><td>⋯</td><td>12</td><td>.</td><td>correct</td><td>0</td><td>0</td><td>1</td><td>.</td><td>ALT:PARALLELOGRAM-AREA</td><td>6</td><td>0.2739</td></tr>\n",
       "\t<tr><th scope=row>4</th><td>4</td><td>All Data</td><td>Stu_c0bf45c22dc46067350d304ce330067e</td><td>Unit Area</td><td>BUILDING_A_SIDEWALK</td><td>1</td><td>(LARGE-RECTANGLE-AREA QUESTION1)</td><td>1996-02-01 00:03:49</td><td>1996-02-01 00:03:53</td><td>1996-02-01 00:03:53</td><td>⋯</td><td>4 </td><td>.</td><td>correct</td><td>0</td><td>0</td><td>1</td><td>.</td><td>ALT:PARALLELOGRAM-AREA</td><td>3</td><td>0.2805</td></tr>\n",
       "\t<tr><th scope=row>5</th><td>5</td><td>All Data</td><td>Stu_c0bf45c22dc46067350d304ce330067e</td><td>Unit Area</td><td>BUILDING_A_SIDEWALK</td><td>1</td><td>(LARGE-RECTANGLE-AREA QUESTION2)</td><td>1996-02-01 00:04:24</td><td>1996-02-01 00:04:28</td><td>1996-02-01 00:04:28</td><td>⋯</td><td>4 </td><td>.</td><td>correct</td><td>0</td><td>0</td><td>1</td><td>.</td><td>ALT:PARALLELOGRAM-AREA</td><td>5</td><td>0.2761</td></tr>\n",
       "\t<tr><th scope=row>6</th><td>6</td><td>All Data</td><td>Stu_c0bf45c22dc46067350d304ce330067e</td><td>Unit Area</td><td>BUILDING_A_SIDEWALK</td><td>1</td><td>(LARGE-RECTANGLE-AREA QUESTION3)</td><td>1996-02-01 00:04:43</td><td>1996-02-01 00:04:46</td><td>1996-02-01 00:04:46</td><td>⋯</td><td>3 </td><td>.</td><td>correct</td><td>0</td><td>0</td><td>1</td><td>.</td><td>ALT:PARALLELOGRAM-AREA</td><td>7</td><td>0.2717</td></tr>\n",
       "</tbody>\n",
       "</table>\n"
      ],
      "text/latex": [
       "A data.frame: 6 × 22\n",
       "\\begin{tabular}{r|lllllllllllllllllllll}\n",
       "  & Row & Sample & Anon.Student.Id & Problem.Hierarchy & Problem.Name & Problem.View & Step.Name & Step.Start.Time & First.Transaction.Time & Correct.Transaction.Time & ⋯ & Correct.Step.Duration..sec. & Error.Step.Duration..sec. & First.Attempt & Incorrects & Hints & Corrects & Condition & KC..Original. & Opportunity..Original. & Predicted.Error.Rate..Original.\\\\\n",
       "  & <int> & <chr> & <chr> & <chr> & <chr> & <int> & <chr> & <chr> & <chr> & <chr> & ⋯ & <chr> & <chr> & <chr> & <int> & <int> & <int> & <chr> & <chr> & <int> & <dbl>\\\\\n",
       "\\hline\n",
       "\t1 & 1 & All Data & Stu\\_c0bf45c22dc46067350d304ce330067e & Unit Area & BUILDING\\_A\\_SIDEWALK & 1 & (POOL-AREA QUESTION1)            & 1996-02-01 00:03:49 & 1996-02-01 00:03:49 & 1996-02-01 00:03:49 & ⋯ & 0  & . & correct & 0 & 0 & 1 & . & ALT:PARALLELOGRAM-AREA & 2 & 0.2827\\\\\n",
       "\t2 & 2 & All Data & Stu\\_c0bf45c22dc46067350d304ce330067e & Unit Area & BUILDING\\_A\\_SIDEWALK & 1 & (POOL-AREA QUESTION2)            & 1996-02-01 00:03:58 & 1996-02-01 00:04:24 & 1996-02-01 00:04:24 & ⋯ & 26 & . & correct & 0 & 0 & 1 & . & ALT:PARALLELOGRAM-AREA & 4 & 0.2783\\\\\n",
       "\t3 & 3 & All Data & Stu\\_c0bf45c22dc46067350d304ce330067e & Unit Area & BUILDING\\_A\\_SIDEWALK & 1 & (POOL-AREA QUESTION3)            & 1996-02-01 00:04:31 & 1996-02-01 00:04:43 & 1996-02-01 00:04:43 & ⋯ & 12 & . & correct & 0 & 0 & 1 & . & ALT:PARALLELOGRAM-AREA & 6 & 0.2739\\\\\n",
       "\t4 & 4 & All Data & Stu\\_c0bf45c22dc46067350d304ce330067e & Unit Area & BUILDING\\_A\\_SIDEWALK & 1 & (LARGE-RECTANGLE-AREA QUESTION1) & 1996-02-01 00:03:49 & 1996-02-01 00:03:53 & 1996-02-01 00:03:53 & ⋯ & 4  & . & correct & 0 & 0 & 1 & . & ALT:PARALLELOGRAM-AREA & 3 & 0.2805\\\\\n",
       "\t5 & 5 & All Data & Stu\\_c0bf45c22dc46067350d304ce330067e & Unit Area & BUILDING\\_A\\_SIDEWALK & 1 & (LARGE-RECTANGLE-AREA QUESTION2) & 1996-02-01 00:04:24 & 1996-02-01 00:04:28 & 1996-02-01 00:04:28 & ⋯ & 4  & . & correct & 0 & 0 & 1 & . & ALT:PARALLELOGRAM-AREA & 5 & 0.2761\\\\\n",
       "\t6 & 6 & All Data & Stu\\_c0bf45c22dc46067350d304ce330067e & Unit Area & BUILDING\\_A\\_SIDEWALK & 1 & (LARGE-RECTANGLE-AREA QUESTION3) & 1996-02-01 00:04:43 & 1996-02-01 00:04:46 & 1996-02-01 00:04:46 & ⋯ & 3  & . & correct & 0 & 0 & 1 & . & ALT:PARALLELOGRAM-AREA & 7 & 0.2717\\\\\n",
       "\\end{tabular}\n"
      ],
      "text/markdown": [
       "\n",
       "A data.frame: 6 × 22\n",
       "\n",
       "| <!--/--> | Row &lt;int&gt; | Sample &lt;chr&gt; | Anon.Student.Id &lt;chr&gt; | Problem.Hierarchy &lt;chr&gt; | Problem.Name &lt;chr&gt; | Problem.View &lt;int&gt; | Step.Name &lt;chr&gt; | Step.Start.Time &lt;chr&gt; | First.Transaction.Time &lt;chr&gt; | Correct.Transaction.Time &lt;chr&gt; | ⋯ ⋯ | Correct.Step.Duration..sec. &lt;chr&gt; | Error.Step.Duration..sec. &lt;chr&gt; | First.Attempt &lt;chr&gt; | Incorrects &lt;int&gt; | Hints &lt;int&gt; | Corrects &lt;int&gt; | Condition &lt;chr&gt; | KC..Original. &lt;chr&gt; | Opportunity..Original. &lt;int&gt; | Predicted.Error.Rate..Original. &lt;dbl&gt; |\n",
       "|---|---|---|---|---|---|---|---|---|---|---|---|---|---|---|---|---|---|---|---|---|---|\n",
       "| 1 | 1 | All Data | Stu_c0bf45c22dc46067350d304ce330067e | Unit Area | BUILDING_A_SIDEWALK | 1 | (POOL-AREA QUESTION1)            | 1996-02-01 00:03:49 | 1996-02-01 00:03:49 | 1996-02-01 00:03:49 | ⋯ | 0  | . | correct | 0 | 0 | 1 | . | ALT:PARALLELOGRAM-AREA | 2 | 0.2827 |\n",
       "| 2 | 2 | All Data | Stu_c0bf45c22dc46067350d304ce330067e | Unit Area | BUILDING_A_SIDEWALK | 1 | (POOL-AREA QUESTION2)            | 1996-02-01 00:03:58 | 1996-02-01 00:04:24 | 1996-02-01 00:04:24 | ⋯ | 26 | . | correct | 0 | 0 | 1 | . | ALT:PARALLELOGRAM-AREA | 4 | 0.2783 |\n",
       "| 3 | 3 | All Data | Stu_c0bf45c22dc46067350d304ce330067e | Unit Area | BUILDING_A_SIDEWALK | 1 | (POOL-AREA QUESTION3)            | 1996-02-01 00:04:31 | 1996-02-01 00:04:43 | 1996-02-01 00:04:43 | ⋯ | 12 | . | correct | 0 | 0 | 1 | . | ALT:PARALLELOGRAM-AREA | 6 | 0.2739 |\n",
       "| 4 | 4 | All Data | Stu_c0bf45c22dc46067350d304ce330067e | Unit Area | BUILDING_A_SIDEWALK | 1 | (LARGE-RECTANGLE-AREA QUESTION1) | 1996-02-01 00:03:49 | 1996-02-01 00:03:53 | 1996-02-01 00:03:53 | ⋯ | 4  | . | correct | 0 | 0 | 1 | . | ALT:PARALLELOGRAM-AREA | 3 | 0.2805 |\n",
       "| 5 | 5 | All Data | Stu_c0bf45c22dc46067350d304ce330067e | Unit Area | BUILDING_A_SIDEWALK | 1 | (LARGE-RECTANGLE-AREA QUESTION2) | 1996-02-01 00:04:24 | 1996-02-01 00:04:28 | 1996-02-01 00:04:28 | ⋯ | 4  | . | correct | 0 | 0 | 1 | . | ALT:PARALLELOGRAM-AREA | 5 | 0.2761 |\n",
       "| 6 | 6 | All Data | Stu_c0bf45c22dc46067350d304ce330067e | Unit Area | BUILDING_A_SIDEWALK | 1 | (LARGE-RECTANGLE-AREA QUESTION3) | 1996-02-01 00:04:43 | 1996-02-01 00:04:46 | 1996-02-01 00:04:46 | ⋯ | 3  | . | correct | 0 | 0 | 1 | . | ALT:PARALLELOGRAM-AREA | 7 | 0.2717 |\n",
       "\n"
      ],
      "text/plain": [
       "  Row Sample   Anon.Student.Id                      Problem.Hierarchy\n",
       "1 1   All Data Stu_c0bf45c22dc46067350d304ce330067e Unit Area        \n",
       "2 2   All Data Stu_c0bf45c22dc46067350d304ce330067e Unit Area        \n",
       "3 3   All Data Stu_c0bf45c22dc46067350d304ce330067e Unit Area        \n",
       "4 4   All Data Stu_c0bf45c22dc46067350d304ce330067e Unit Area        \n",
       "5 5   All Data Stu_c0bf45c22dc46067350d304ce330067e Unit Area        \n",
       "6 6   All Data Stu_c0bf45c22dc46067350d304ce330067e Unit Area        \n",
       "  Problem.Name        Problem.View Step.Name                       \n",
       "1 BUILDING_A_SIDEWALK 1            (POOL-AREA QUESTION1)           \n",
       "2 BUILDING_A_SIDEWALK 1            (POOL-AREA QUESTION2)           \n",
       "3 BUILDING_A_SIDEWALK 1            (POOL-AREA QUESTION3)           \n",
       "4 BUILDING_A_SIDEWALK 1            (LARGE-RECTANGLE-AREA QUESTION1)\n",
       "5 BUILDING_A_SIDEWALK 1            (LARGE-RECTANGLE-AREA QUESTION2)\n",
       "6 BUILDING_A_SIDEWALK 1            (LARGE-RECTANGLE-AREA QUESTION3)\n",
       "  Step.Start.Time     First.Transaction.Time Correct.Transaction.Time ⋯\n",
       "1 1996-02-01 00:03:49 1996-02-01 00:03:49    1996-02-01 00:03:49      ⋯\n",
       "2 1996-02-01 00:03:58 1996-02-01 00:04:24    1996-02-01 00:04:24      ⋯\n",
       "3 1996-02-01 00:04:31 1996-02-01 00:04:43    1996-02-01 00:04:43      ⋯\n",
       "4 1996-02-01 00:03:49 1996-02-01 00:03:53    1996-02-01 00:03:53      ⋯\n",
       "5 1996-02-01 00:04:24 1996-02-01 00:04:28    1996-02-01 00:04:28      ⋯\n",
       "6 1996-02-01 00:04:43 1996-02-01 00:04:46    1996-02-01 00:04:46      ⋯\n",
       "  Correct.Step.Duration..sec. Error.Step.Duration..sec. First.Attempt\n",
       "1 0                           .                         correct      \n",
       "2 26                          .                         correct      \n",
       "3 12                          .                         correct      \n",
       "4 4                           .                         correct      \n",
       "5 4                           .                         correct      \n",
       "6 3                           .                         correct      \n",
       "  Incorrects Hints Corrects Condition KC..Original.         \n",
       "1 0          0     1        .         ALT:PARALLELOGRAM-AREA\n",
       "2 0          0     1        .         ALT:PARALLELOGRAM-AREA\n",
       "3 0          0     1        .         ALT:PARALLELOGRAM-AREA\n",
       "4 0          0     1        .         ALT:PARALLELOGRAM-AREA\n",
       "5 0          0     1        .         ALT:PARALLELOGRAM-AREA\n",
       "6 0          0     1        .         ALT:PARALLELOGRAM-AREA\n",
       "  Opportunity..Original. Predicted.Error.Rate..Original.\n",
       "1 2                      0.2827                         \n",
       "2 4                      0.2783                         \n",
       "3 6                      0.2739                         \n",
       "4 3                      0.2805                         \n",
       "5 5                      0.2761                         \n",
       "6 7                      0.2717                         "
      ]
     },
     "metadata": {},
     "output_type": "display_data"
    }
   ],
   "source": [
    "View(head(testdata))"
   ]
  },
  {
   "cell_type": "code",
   "execution_count": 3,
   "id": "73dccfa1-c59e-4a62-baf5-84f659ead9e9",
   "metadata": {},
   "outputs": [
    {
     "data": {
      "text/plain": [
       "[1] 5104"
      ]
     },
     "execution_count": 3,
     "metadata": {},
     "output_type": "execute_result"
    }
   ],
   "source": [
    "nrow(testdata)"
   ]
  },
  {
   "cell_type": "code",
   "execution_count": 4,
   "id": "f318c2fe-8c18-4387-a4d7-d9afd45f3a82",
   "metadata": {},
   "outputs": [
    {
     "data": {
      "text/plain": [
       "   Min. 1st Qu.  Median    Mean 3rd Qu.    Max. \n",
       " 0.0000  1.0000  1.0000  0.7516  1.0000  1.0000 "
      ]
     },
     "execution_count": 4,
     "metadata": {},
     "output_type": "execute_result"
    }
   ],
   "source": [
    "attach(testdata)\n",
    "Outcome = vector(mode=\"numeric\", length = length(Anon.Student.Id))\n",
    "Outcome[First.Attempt == \"correct\"] = 1\n",
    "Outcome[First.Attempt == \"incorrect\"] = 0\n",
    "Outcome[First.Attempt == \"hint\"] = 0\n",
    "summary(Outcome)"
   ]
  },
  {
   "cell_type": "code",
   "execution_count": 5,
   "id": "ffef64e0-3f8a-4d6d-8d31-b6bcf40a9818",
   "metadata": {},
   "outputs": [
    {
     "name": "stderr",
     "output_type": "stream",
     "text": [
      "Das folgende Objekt ist maskiert durch .GlobalEnv:\n",
      "\n",
      "    Outcome\n",
      "\n"
     ]
    }
   ],
   "source": [
    "mydata = data.frame(Outcome, Anon.Student.Id, Step.Duration..sec., KC..Original., Opportunity..Original.)\n",
    "detach(testdata)\n",
    "attach(mydata)"
   ]
  },
  {
   "cell_type": "code",
   "execution_count": 7,
   "id": "17bf19ed-bf03-4efd-b7fb-a3a903f9b00c",
   "metadata": {},
   "outputs": [],
   "source": [
    "AFM_QT <- Outcome ~ Anon.Student.Id + KC..Original. + Opportunity..Original. + Step.Duration..sec. + I(Step.Duration..sec.)^2\n",
    "AFM_Model <- glm(AFM_QT, family=binomial(), data= mydata)"
   ]
  },
  {
   "cell_type": "code",
   "execution_count": 8,
   "id": "b3dbe7c7-fdd5-4eb8-9298-ccfd6ab3b210",
   "metadata": {},
   "outputs": [
    {
     "data": {
      "text/plain": [
       "\n",
       "Call:\n",
       "glm(formula = AFM_QT, family = binomial(), data = mydata)\n",
       "\n",
       "Coefficients: (1 not defined because of singularities)\n",
       "                                                      Estimate Std. Error\n",
       "(Intercept)                                           0.299928   0.214951\n",
       "Anon.Student.IdStu_04317acc6cccc2fac0b953aee8ba956c  -0.641398   0.898811\n",
       "Anon.Student.IdStu_09e34be8c3a4c82fb0781173c6f485e4 -16.681218 683.706732\n",
       "Anon.Student.IdStu_0dc180ab4196c3c75b62bfc5e01e6ee2   1.189670   0.352916\n",
       "Anon.Student.IdStu_11a1b913a4129bacb8b88a619fd09ae2  -0.078944   0.421156\n",
       "Anon.Student.IdStu_151682e96c4fe1d626d5a15ca23e2241   0.322832   0.347923\n",
       "Anon.Student.IdStu_1afbee9e3e83bb801b589108fb46028a   1.235049   0.484187\n",
       "Anon.Student.IdStu_1b394ff128c045b7d4ad4f6e83933b72   1.284203   0.285914\n",
       "Anon.Student.IdStu_1d6b91d4b593d7e4f5622275b3295663   0.549712   0.341884\n",
       "Anon.Student.IdStu_1d8cd1d1ea2c887618aa21a4b650b4ba   0.691439   0.595980\n",
       "Anon.Student.IdStu_2183634602adb40f1a7de7b09ded0c02   1.017803   0.560045\n",
       "Anon.Student.IdStu_21b2fcd580ae27d8b9a7a067d10825d0  -0.385123   0.746295\n",
       "Anon.Student.IdStu_25aa8cd8adadaf6090f8179c269e9e90   1.580699   1.245026\n",
       "Anon.Student.IdStu_29b77c61d740f26435156f56b2c5202f   0.251410   0.857308\n",
       "Anon.Student.IdStu_2a3d5ccedbbe6952c9dc8c5656638d4f  14.198000 593.782096\n",
       "Anon.Student.IdStu_2ebe6a7530ff11f2c0b9b807faf0a0a3   2.016010   0.366863\n",
       "Anon.Student.IdStu_3ccf65a4350752bf3a96ec95a3a90cd0  -0.975104   0.335586\n",
       "Anon.Student.IdStu_489b8bd11558dd3a455de1fe5e38faa4  14.623464 386.935462\n",
       "Anon.Student.IdStu_4e8a5be7f2663d2ccccfb59c684d5452   0.575608   0.238485\n",
       "Anon.Student.IdStu_58d8c63d6e15a65f05b2e59e0a285d8f   0.617392   0.239177\n",
       "Anon.Student.IdStu_657d6aef6740774a3299d591ae114bea   1.448633   0.826539\n",
       "Anon.Student.IdStu_671ccc3ef2c091b6b6d76b34e3d19a8f   0.948873   0.256818\n",
       "Anon.Student.IdStu_6b5d2961920e5396f8634304820455ec  -0.821995   0.951809\n",
       "Anon.Student.IdStu_706a76f06dfa563c7ea573d994ca5405   1.419049   0.301745\n",
       "Anon.Student.IdStu_733990addc60bb852997e415bcc9577e   0.947537   0.266667\n",
       "Anon.Student.IdStu_7ba7a7c8cc474ba3391d45612ea7c73f  -0.984561   0.845790\n",
       "Anon.Student.IdStu_7dadea175538760bab3eb0216d91e3ef   0.680116   0.258506\n",
       "Anon.Student.IdStu_8150b92d145a08727bc5a1e77eade01d   1.434500   0.367417\n",
       "Anon.Student.IdStu_861fdf2e69c42f0b34eeea4b9a2d03dc  14.622647 302.774753\n",
       "Anon.Student.IdStu_87d1548f2cd78b7b8e334802016e700e   0.672235   0.263224\n",
       "Anon.Student.IdStu_885622210ccfe984c942d1ca0ae6c625   0.581065   0.841857\n",
       "Anon.Student.IdStu_96f77946590b83a5173389e2cbd1e6cb  -0.026468   0.899455\n",
       "Anon.Student.IdStu_98e7261dfe23e96d8982adfd203aa086   1.065940   0.445145\n",
       "Anon.Student.IdStu_9a779681b1582fd4dc330e934994ac07   1.940883   1.076117\n",
       "Anon.Student.IdStu_9fb3481981a38a7299e9b3c96e0d0218   0.463683   0.235347\n",
       "Anon.Student.IdStu_ac89a0ef007fb0c8c920b786e2822d83   1.714467   0.322789\n",
       "Anon.Student.IdStu_ac8f950f416639e014a1294ac59b4086   0.207846   0.235755\n",
       "Anon.Student.IdStu_ad3610752c4af1c3cac6638ef588e02b   1.379989   0.288505\n",
       "Anon.Student.IdStu_af3a2f63bda8c1338556108cb8d519a0  -0.375987   0.479746\n",
       "Anon.Student.IdStu_b008b6015fa6d5a8fa6a5ec1ce0405aa   0.279220   0.684288\n",
       "Anon.Student.IdStu_c0bf45c22dc46067350d304ce330067e  -0.882857   0.409875\n",
       "Anon.Student.IdStu_c232f8b37b15ea9fce7afc6b73df17bb   0.663382   0.243601\n",
       "Anon.Student.IdStu_c451386562a85a0cc50c36d6df6db731   0.258564   0.232287\n",
       "Anon.Student.IdStu_ca9efbdfd732adc02df2ab44092e1e85   0.693840   0.250193\n",
       "Anon.Student.IdStu_cb3d89b01d6bcca7d74386e95e3914f0  -0.503938   1.174706\n",
       "Anon.Student.IdStu_cf6b3f01b1bf297da154aaa975fbd9c1   0.948827   0.266540\n",
       "Anon.Student.IdStu_d172f184e6b8890fcdee6a7a3169e9c4   0.947578   0.555809\n",
       "Anon.Student.IdStu_d5290be96a793ac550b7d2b0b31e4244   0.356785   0.233221\n",
       "Anon.Student.IdStu_d670d7de62ee1a748b67448da3c53d8b   0.005786   0.758850\n",
       "Anon.Student.IdStu_d6eb77b7560f5f2f7ffadde7a9b7914c   0.480382   0.735502\n",
       "Anon.Student.IdStu_d7f18a5fa205a889b0c5b0b56a7127d3   0.428029   0.228864\n",
       "Anon.Student.IdStu_d84aa55d6a524370492c9ed6d401919a   0.666198   0.249678\n",
       "Anon.Student.IdStu_e0e22d49d6bb0a1fe71e19d8d60221ae   0.798518   0.274371\n",
       "Anon.Student.IdStu_e225ceb425b9c40773ca12f5905514aa   0.236843   0.765154\n",
       "Anon.Student.IdStu_e242582bd5729de82485e42d69e22109   0.949832   0.252572\n",
       "Anon.Student.IdStu_e42d78fdad8dfc176e7a103ac68d1aa8   1.141710   0.509052\n",
       "Anon.Student.IdStu_e49290be25bd7ce478394c7becc6c70c   1.186518   0.374258\n",
       "Anon.Student.IdStu_e912c6e7b2dee9a2829ef793c245a211   0.796802   0.330145\n",
       "Anon.Student.IdStu_f01773c1237a0acdf4170202bf5b5c32   1.234953   0.271140\n",
       "KC..Original.ALT:CIRCLE-CIRCUMFERENCE                 0.078078   0.186747\n",
       "KC..Original.ALT:CIRCLE-DIAMETER                     -0.117346   0.183490\n",
       "KC..Original.ALT:CIRCLE-RADIUS                       -0.620772   0.168524\n",
       "KC..Original.ALT:COMPOSE-BY-ADDITION                 -0.413129   0.145332\n",
       "KC..Original.ALT:COMPOSE-BY-MULTIPLICATION           -0.001831   0.160846\n",
       "KC..Original.ALT:PARALLELOGRAM-AREA                   0.964665   0.175247\n",
       "KC..Original.ALT:PARALLELOGRAM-SIDE                   1.090470   0.283831\n",
       "KC..Original.ALT:PENTAGON-AREA                       -0.739959   0.196417\n",
       "KC..Original.ALT:PENTAGON-SIDE                       -0.594780   0.163425\n",
       "KC..Original.ALT:TRAPEZOID-AREA                      -0.840596   0.213115\n",
       "KC..Original.ALT:TRAPEZOID-BASE                      -0.714548   0.218273\n",
       "KC..Original.ALT:TRAPEZOID-HEIGHT                    -1.027319   0.211362\n",
       "KC..Original.ALT:TRIANGLE-AREA                        0.011127   0.170776\n",
       "KC..Original.ALT:TRIANGLE-SIDE                       -0.862412   0.189924\n",
       "Opportunity..Original.                                0.047976   0.007018\n",
       "Step.Duration..sec.                                  -0.004572   0.001268\n",
       "I(Step.Duration..sec.)                                      NA         NA\n",
       "                                                    z value Pr(>|z|)    \n",
       "(Intercept)                                           1.395 0.162915    \n",
       "Anon.Student.IdStu_04317acc6cccc2fac0b953aee8ba956c  -0.714 0.475470    \n",
       "Anon.Student.IdStu_09e34be8c3a4c82fb0781173c6f485e4  -0.024 0.980535    \n",
       "Anon.Student.IdStu_0dc180ab4196c3c75b62bfc5e01e6ee2   3.371 0.000749 ***\n",
       "Anon.Student.IdStu_11a1b913a4129bacb8b88a619fd09ae2  -0.187 0.851311    \n",
       "Anon.Student.IdStu_151682e96c4fe1d626d5a15ca23e2241   0.928 0.353468    \n",
       "Anon.Student.IdStu_1afbee9e3e83bb801b589108fb46028a   2.551 0.010749 *  \n",
       "Anon.Student.IdStu_1b394ff128c045b7d4ad4f6e83933b72   4.492 7.07e-06 ***\n",
       "Anon.Student.IdStu_1d6b91d4b593d7e4f5622275b3295663   1.608 0.107859    \n",
       "Anon.Student.IdStu_1d8cd1d1ea2c887618aa21a4b650b4ba   1.160 0.245979    \n",
       "Anon.Student.IdStu_2183634602adb40f1a7de7b09ded0c02   1.817 0.069162 .  \n",
       "Anon.Student.IdStu_21b2fcd580ae27d8b9a7a067d10825d0  -0.516 0.605822    \n",
       "Anon.Student.IdStu_25aa8cd8adadaf6090f8179c269e9e90   1.270 0.204223    \n",
       "Anon.Student.IdStu_29b77c61d740f26435156f56b2c5202f   0.293 0.769327    \n",
       "Anon.Student.IdStu_2a3d5ccedbbe6952c9dc8c5656638d4f   0.024 0.980923    \n",
       "Anon.Student.IdStu_2ebe6a7530ff11f2c0b9b807faf0a0a3   5.495 3.90e-08 ***\n",
       "Anon.Student.IdStu_3ccf65a4350752bf3a96ec95a3a90cd0  -2.906 0.003665 ** \n",
       "Anon.Student.IdStu_489b8bd11558dd3a455de1fe5e38faa4   0.038 0.969853    \n",
       "Anon.Student.IdStu_4e8a5be7f2663d2ccccfb59c684d5452   2.414 0.015796 *  \n",
       "Anon.Student.IdStu_58d8c63d6e15a65f05b2e59e0a285d8f   2.581 0.009842 ** \n",
       "Anon.Student.IdStu_657d6aef6740774a3299d591ae114bea   1.753 0.079662 .  \n",
       "Anon.Student.IdStu_671ccc3ef2c091b6b6d76b34e3d19a8f   3.695 0.000220 ***\n",
       "Anon.Student.IdStu_6b5d2961920e5396f8634304820455ec  -0.864 0.387800    \n",
       "Anon.Student.IdStu_706a76f06dfa563c7ea573d994ca5405   4.703 2.57e-06 ***\n",
       "Anon.Student.IdStu_733990addc60bb852997e415bcc9577e   3.553 0.000380 ***\n",
       "Anon.Student.IdStu_7ba7a7c8cc474ba3391d45612ea7c73f  -1.164 0.244395    \n",
       "Anon.Student.IdStu_7dadea175538760bab3eb0216d91e3ef   2.631 0.008515 ** \n",
       "Anon.Student.IdStu_8150b92d145a08727bc5a1e77eade01d   3.904 9.45e-05 ***\n",
       "Anon.Student.IdStu_861fdf2e69c42f0b34eeea4b9a2d03dc   0.048 0.961481    \n",
       "Anon.Student.IdStu_87d1548f2cd78b7b8e334802016e700e   2.554 0.010654 *  \n",
       "Anon.Student.IdStu_885622210ccfe984c942d1ca0ae6c625   0.690 0.490057    \n",
       "Anon.Student.IdStu_96f77946590b83a5173389e2cbd1e6cb  -0.029 0.976524    \n",
       "Anon.Student.IdStu_98e7261dfe23e96d8982adfd203aa086   2.395 0.016639 *  \n",
       "Anon.Student.IdStu_9a779681b1582fd4dc330e934994ac07   1.804 0.071294 .  \n",
       "Anon.Student.IdStu_9fb3481981a38a7299e9b3c96e0d0218   1.970 0.048815 *  \n",
       "Anon.Student.IdStu_ac89a0ef007fb0c8c920b786e2822d83   5.311 1.09e-07 ***\n",
       "Anon.Student.IdStu_ac8f950f416639e014a1294ac59b4086   0.882 0.377984    \n",
       "Anon.Student.IdStu_ad3610752c4af1c3cac6638ef588e02b   4.783 1.72e-06 ***\n",
       "Anon.Student.IdStu_af3a2f63bda8c1338556108cb8d519a0  -0.784 0.433203    \n",
       "Anon.Student.IdStu_b008b6015fa6d5a8fa6a5ec1ce0405aa   0.408 0.683241    \n",
       "Anon.Student.IdStu_c0bf45c22dc46067350d304ce330067e  -2.154 0.031243 *  \n",
       "Anon.Student.IdStu_c232f8b37b15ea9fce7afc6b73df17bb   2.723 0.006465 ** \n",
       "Anon.Student.IdStu_c451386562a85a0cc50c36d6df6db731   1.113 0.265655    \n",
       "Anon.Student.IdStu_ca9efbdfd732adc02df2ab44092e1e85   2.773 0.005551 ** \n",
       "Anon.Student.IdStu_cb3d89b01d6bcca7d74386e95e3914f0  -0.429 0.667930    \n",
       "Anon.Student.IdStu_cf6b3f01b1bf297da154aaa975fbd9c1   3.560 0.000371 ***\n",
       "Anon.Student.IdStu_d172f184e6b8890fcdee6a7a3169e9c4   1.705 0.088220 .  \n",
       "Anon.Student.IdStu_d5290be96a793ac550b7d2b0b31e4244   1.530 0.126062    \n",
       "Anon.Student.IdStu_d670d7de62ee1a748b67448da3c53d8b   0.008 0.993917    \n",
       "Anon.Student.IdStu_d6eb77b7560f5f2f7ffadde7a9b7914c   0.653 0.513669    \n",
       "Anon.Student.IdStu_d7f18a5fa205a889b0c5b0b56a7127d3   1.870 0.061451 .  \n",
       "Anon.Student.IdStu_d84aa55d6a524370492c9ed6d401919a   2.668 0.007625 ** \n",
       "Anon.Student.IdStu_e0e22d49d6bb0a1fe71e19d8d60221ae   2.910 0.003610 ** \n",
       "Anon.Student.IdStu_e225ceb425b9c40773ca12f5905514aa   0.310 0.756913    \n",
       "Anon.Student.IdStu_e242582bd5729de82485e42d69e22109   3.761 0.000169 ***\n",
       "Anon.Student.IdStu_e42d78fdad8dfc176e7a103ac68d1aa8   2.243 0.024909 *  \n",
       "Anon.Student.IdStu_e49290be25bd7ce478394c7becc6c70c   3.170 0.001523 ** \n",
       "Anon.Student.IdStu_e912c6e7b2dee9a2829ef793c245a211   2.413 0.015801 *  \n",
       "Anon.Student.IdStu_f01773c1237a0acdf4170202bf5b5c32   4.555 5.25e-06 ***\n",
       "KC..Original.ALT:CIRCLE-CIRCUMFERENCE                 0.418 0.675877    \n",
       "KC..Original.ALT:CIRCLE-DIAMETER                     -0.640 0.522483    \n",
       "KC..Original.ALT:CIRCLE-RADIUS                       -3.684 0.000230 ***\n",
       "KC..Original.ALT:COMPOSE-BY-ADDITION                 -2.843 0.004474 ** \n",
       "KC..Original.ALT:COMPOSE-BY-MULTIPLICATION           -0.011 0.990918    \n",
       "KC..Original.ALT:PARALLELOGRAM-AREA                   5.505 3.70e-08 ***\n",
       "KC..Original.ALT:PARALLELOGRAM-SIDE                   3.842 0.000122 ***\n",
       "KC..Original.ALT:PENTAGON-AREA                       -3.767 0.000165 ***\n",
       "KC..Original.ALT:PENTAGON-SIDE                       -3.639 0.000273 ***\n",
       "KC..Original.ALT:TRAPEZOID-AREA                      -3.944 8.00e-05 ***\n",
       "KC..Original.ALT:TRAPEZOID-BASE                      -3.274 0.001062 ** \n",
       "KC..Original.ALT:TRAPEZOID-HEIGHT                    -4.860 1.17e-06 ***\n",
       "KC..Original.ALT:TRIANGLE-AREA                        0.065 0.948050    \n",
       "KC..Original.ALT:TRIANGLE-SIDE                       -4.541 5.60e-06 ***\n",
       "Opportunity..Original.                                6.836 8.14e-12 ***\n",
       "Step.Duration..sec.                                  -3.605 0.000312 ***\n",
       "I(Step.Duration..sec.)                                   NA       NA    \n",
       "---\n",
       "Signif. codes:  0 ‘***’ 0.001 ‘**’ 0.01 ‘*’ 0.05 ‘.’ 0.1 ‘ ’ 1\n",
       "\n",
       "(Dispersion parameter for binomial family taken to be 1)\n",
       "\n",
       "    Null deviance: 5722.7  on 5103  degrees of freedom\n",
       "Residual deviance: 5073.2  on 5029  degrees of freedom\n",
       "AIC: 5223.2\n",
       "\n",
       "Number of Fisher Scoring iterations: 14\n"
      ]
     },
     "execution_count": 8,
     "metadata": {},
     "output_type": "execute_result"
    }
   ],
   "source": [
    "summary(AFM_Model)"
   ]
  },
  {
   "cell_type": "markdown",
   "id": "6c2892ef-0bec-42e7-ae73-0fd18425f069",
   "metadata": {},
   "source": [
    "## Compare to AFM"
   ]
  },
  {
   "cell_type": "code",
   "execution_count": 10,
   "id": "662b55b3-2b62-4526-a703-f53e76325a7c",
   "metadata": {},
   "outputs": [],
   "source": [
    "AFM <- Outcome ~ Anon.Student.Id + KC..Original. + Opportunity..Original. \n",
    "AFM_Model2 <- glm(AFM, family=binomial(), data= mydata)"
   ]
  },
  {
   "cell_type": "code",
   "execution_count": 11,
   "id": "fcdb0f44-6485-4dc3-bd1f-cd214391ae0b",
   "metadata": {},
   "outputs": [
    {
     "data": {
      "text/plain": [
       "\n",
       "Call:\n",
       "glm(formula = AFM, family = binomial(), data = mydata)\n",
       "\n",
       "Coefficients:\n",
       "                                                      Estimate Std. Error\n",
       "(Intercept)                                           0.260468   0.214510\n",
       "Anon.Student.IdStu_04317acc6cccc2fac0b953aee8ba956c  -0.688955   0.895925\n",
       "Anon.Student.IdStu_09e34be8c3a4c82fb0781173c6f485e4 -16.648261 683.417496\n",
       "Anon.Student.IdStu_0dc180ab4196c3c75b62bfc5e01e6ee2   1.160582   0.352201\n",
       "Anon.Student.IdStu_11a1b913a4129bacb8b88a619fd09ae2  -0.141406   0.421038\n",
       "Anon.Student.IdStu_151682e96c4fe1d626d5a15ca23e2241   0.321222   0.348231\n",
       "Anon.Student.IdStu_1afbee9e3e83bb801b589108fb46028a   1.248990   0.484017\n",
       "Anon.Student.IdStu_1b394ff128c045b7d4ad4f6e83933b72   1.255796   0.285112\n",
       "Anon.Student.IdStu_1d6b91d4b593d7e4f5622275b3295663   0.543871   0.341687\n",
       "Anon.Student.IdStu_1d8cd1d1ea2c887618aa21a4b650b4ba   0.685953   0.596732\n",
       "Anon.Student.IdStu_2183634602adb40f1a7de7b09ded0c02   0.912630   0.552246\n",
       "Anon.Student.IdStu_21b2fcd580ae27d8b9a7a067d10825d0  -0.426947   0.748622\n",
       "Anon.Student.IdStu_25aa8cd8adadaf6090f8179c269e9e90   1.294223   1.241938\n",
       "Anon.Student.IdStu_29b77c61d740f26435156f56b2c5202f   0.203205   0.850880\n",
       "Anon.Student.IdStu_2a3d5ccedbbe6952c9dc8c5656638d4f  14.197821 593.578576\n",
       "Anon.Student.IdStu_2ebe6a7530ff11f2c0b9b807faf0a0a3   1.956154   0.365952\n",
       "Anon.Student.IdStu_3ccf65a4350752bf3a96ec95a3a90cd0  -0.965032   0.336300\n",
       "Anon.Student.IdStu_489b8bd11558dd3a455de1fe5e38faa4  14.642860 386.664716\n",
       "Anon.Student.IdStu_4e8a5be7f2663d2ccccfb59c684d5452   0.519247   0.237415\n",
       "Anon.Student.IdStu_58d8c63d6e15a65f05b2e59e0a285d8f   0.589610   0.238678\n",
       "Anon.Student.IdStu_657d6aef6740774a3299d591ae114bea   1.466886   0.825567\n",
       "Anon.Student.IdStu_671ccc3ef2c091b6b6d76b34e3d19a8f   0.917652   0.256467\n",
       "Anon.Student.IdStu_6b5d2961920e5396f8634304820455ec  -0.837288   0.955407\n",
       "Anon.Student.IdStu_706a76f06dfa563c7ea573d994ca5405   1.398383   0.301346\n",
       "Anon.Student.IdStu_733990addc60bb852997e415bcc9577e   0.937152   0.266362\n",
       "Anon.Student.IdStu_7ba7a7c8cc474ba3391d45612ea7c73f  -0.962574   0.848088\n",
       "Anon.Student.IdStu_7dadea175538760bab3eb0216d91e3ef   0.631958   0.257618\n",
       "Anon.Student.IdStu_8150b92d145a08727bc5a1e77eade01d   1.428077   0.367564\n",
       "Anon.Student.IdStu_861fdf2e69c42f0b34eeea4b9a2d03dc  14.650484 302.258081\n",
       "Anon.Student.IdStu_87d1548f2cd78b7b8e334802016e700e   0.625227   0.262012\n",
       "Anon.Student.IdStu_885622210ccfe984c942d1ca0ae6c625   0.574103   0.840693\n",
       "Anon.Student.IdStu_96f77946590b83a5173389e2cbd1e6cb  -0.121334   0.888862\n",
       "Anon.Student.IdStu_98e7261dfe23e96d8982adfd203aa086   1.091253   0.445332\n",
       "Anon.Student.IdStu_9a779681b1582fd4dc330e934994ac07   1.941378   1.076621\n",
       "Anon.Student.IdStu_9fb3481981a38a7299e9b3c96e0d0218   0.457941   0.235385\n",
       "Anon.Student.IdStu_ac89a0ef007fb0c8c920b786e2822d83   1.709144   0.322641\n",
       "Anon.Student.IdStu_ac8f950f416639e014a1294ac59b4086   0.199656   0.235537\n",
       "Anon.Student.IdStu_ad3610752c4af1c3cac6638ef588e02b   1.245111   0.282846\n",
       "Anon.Student.IdStu_af3a2f63bda8c1338556108cb8d519a0  -0.394364   0.480540\n",
       "Anon.Student.IdStu_b008b6015fa6d5a8fa6a5ec1ce0405aa   0.171044   0.683499\n",
       "Anon.Student.IdStu_c0bf45c22dc46067350d304ce330067e  -0.885517   0.409601\n",
       "Anon.Student.IdStu_c232f8b37b15ea9fce7afc6b73df17bb   0.658886   0.243576\n",
       "Anon.Student.IdStu_c451386562a85a0cc50c36d6df6db731   0.251011   0.232095\n",
       "Anon.Student.IdStu_ca9efbdfd732adc02df2ab44092e1e85   0.691257   0.250016\n",
       "Anon.Student.IdStu_cb3d89b01d6bcca7d74386e95e3914f0  -0.539804   1.173141\n",
       "Anon.Student.IdStu_cf6b3f01b1bf297da154aaa975fbd9c1   0.946453   0.266710\n",
       "Anon.Student.IdStu_d172f184e6b8890fcdee6a7a3169e9c4   0.948494   0.554213\n",
       "Anon.Student.IdStu_d5290be96a793ac550b7d2b0b31e4244   0.316602   0.232476\n",
       "Anon.Student.IdStu_d670d7de62ee1a748b67448da3c53d8b   0.022575   0.757234\n",
       "Anon.Student.IdStu_d6eb77b7560f5f2f7ffadde7a9b7914c   0.535249   0.734854\n",
       "Anon.Student.IdStu_d7f18a5fa205a889b0c5b0b56a7127d3   0.408213   0.228725\n",
       "Anon.Student.IdStu_d84aa55d6a524370492c9ed6d401919a   0.660337   0.249347\n",
       "Anon.Student.IdStu_e0e22d49d6bb0a1fe71e19d8d60221ae   0.795693   0.274165\n",
       "Anon.Student.IdStu_e225ceb425b9c40773ca12f5905514aa   0.204422   0.763532\n",
       "Anon.Student.IdStu_e242582bd5729de82485e42d69e22109   0.954901   0.252532\n",
       "Anon.Student.IdStu_e42d78fdad8dfc176e7a103ac68d1aa8   1.105678   0.503214\n",
       "Anon.Student.IdStu_e49290be25bd7ce478394c7becc6c70c   1.190984   0.374171\n",
       "Anon.Student.IdStu_e912c6e7b2dee9a2829ef793c245a211   0.798510   0.330504\n",
       "Anon.Student.IdStu_f01773c1237a0acdf4170202bf5b5c32   1.234323   0.271017\n",
       "KC..Original.ALT:CIRCLE-CIRCUMFERENCE                 0.060576   0.186463\n",
       "KC..Original.ALT:CIRCLE-DIAMETER                     -0.214968   0.180806\n",
       "KC..Original.ALT:CIRCLE-RADIUS                       -0.605840   0.168396\n",
       "KC..Original.ALT:COMPOSE-BY-ADDITION                 -0.434520   0.145097\n",
       "KC..Original.ALT:COMPOSE-BY-MULTIPLICATION           -0.014897   0.160648\n",
       "KC..Original.ALT:PARALLELOGRAM-AREA                   0.955678   0.175059\n",
       "KC..Original.ALT:PARALLELOGRAM-SIDE                   1.090437   0.283445\n",
       "KC..Original.ALT:PENTAGON-AREA                       -0.701270   0.195931\n",
       "KC..Original.ALT:PENTAGON-SIDE                       -0.677954   0.161388\n",
       "KC..Original.ALT:TRAPEZOID-AREA                      -0.843646   0.212733\n",
       "KC..Original.ALT:TRAPEZOID-BASE                      -0.811965   0.215420\n",
       "KC..Original.ALT:TRAPEZOID-HEIGHT                    -1.070912   0.210438\n",
       "KC..Original.ALT:TRIANGLE-AREA                       -0.012970   0.170368\n",
       "KC..Original.ALT:TRIANGLE-SIDE                       -0.878223   0.189597\n",
       "Opportunity..Original.                                0.049457   0.007007\n",
       "                                                    z value Pr(>|z|)    \n",
       "(Intercept)                                           1.214 0.224653    \n",
       "Anon.Student.IdStu_04317acc6cccc2fac0b953aee8ba956c  -0.769 0.441901    \n",
       "Anon.Student.IdStu_09e34be8c3a4c82fb0781173c6f485e4  -0.024 0.980565    \n",
       "Anon.Student.IdStu_0dc180ab4196c3c75b62bfc5e01e6ee2   3.295 0.000983 ***\n",
       "Anon.Student.IdStu_11a1b913a4129bacb8b88a619fd09ae2  -0.336 0.736984    \n",
       "Anon.Student.IdStu_151682e96c4fe1d626d5a15ca23e2241   0.922 0.356301    \n",
       "Anon.Student.IdStu_1afbee9e3e83bb801b589108fb46028a   2.580 0.009867 ** \n",
       "Anon.Student.IdStu_1b394ff128c045b7d4ad4f6e83933b72   4.405 1.06e-05 ***\n",
       "Anon.Student.IdStu_1d6b91d4b593d7e4f5622275b3295663   1.592 0.111447    \n",
       "Anon.Student.IdStu_1d8cd1d1ea2c887618aa21a4b650b4ba   1.150 0.250343    \n",
       "Anon.Student.IdStu_2183634602adb40f1a7de7b09ded0c02   1.653 0.098417 .  \n",
       "Anon.Student.IdStu_21b2fcd580ae27d8b9a7a067d10825d0  -0.570 0.568467    \n",
       "Anon.Student.IdStu_25aa8cd8adadaf6090f8179c269e9e90   1.042 0.297366    \n",
       "Anon.Student.IdStu_29b77c61d740f26435156f56b2c5202f   0.239 0.811247    \n",
       "Anon.Student.IdStu_2a3d5ccedbbe6952c9dc8c5656638d4f   0.024 0.980917    \n",
       "Anon.Student.IdStu_2ebe6a7530ff11f2c0b9b807faf0a0a3   5.345 9.02e-08 ***\n",
       "Anon.Student.IdStu_3ccf65a4350752bf3a96ec95a3a90cd0  -2.870 0.004110 ** \n",
       "Anon.Student.IdStu_489b8bd11558dd3a455de1fe5e38faa4   0.038 0.969792    \n",
       "Anon.Student.IdStu_4e8a5be7f2663d2ccccfb59c684d5452   2.187 0.028736 *  \n",
       "Anon.Student.IdStu_58d8c63d6e15a65f05b2e59e0a285d8f   2.470 0.013499 *  \n",
       "Anon.Student.IdStu_657d6aef6740774a3299d591ae114bea   1.777 0.075597 .  \n",
       "Anon.Student.IdStu_671ccc3ef2c091b6b6d76b34e3d19a8f   3.578 0.000346 ***\n",
       "Anon.Student.IdStu_6b5d2961920e5396f8634304820455ec  -0.876 0.380830    \n",
       "Anon.Student.IdStu_706a76f06dfa563c7ea573d994ca5405   4.640 3.48e-06 ***\n",
       "Anon.Student.IdStu_733990addc60bb852997e415bcc9577e   3.518 0.000434 ***\n",
       "Anon.Student.IdStu_7ba7a7c8cc474ba3391d45612ea7c73f  -1.135 0.256378    \n",
       "Anon.Student.IdStu_7dadea175538760bab3eb0216d91e3ef   2.453 0.014164 *  \n",
       "Anon.Student.IdStu_8150b92d145a08727bc5a1e77eade01d   3.885 0.000102 ***\n",
       "Anon.Student.IdStu_861fdf2e69c42f0b34eeea4b9a2d03dc   0.048 0.961342    \n",
       "Anon.Student.IdStu_87d1548f2cd78b7b8e334802016e700e   2.386 0.017021 *  \n",
       "Anon.Student.IdStu_885622210ccfe984c942d1ca0ae6c625   0.683 0.494675    \n",
       "Anon.Student.IdStu_96f77946590b83a5173389e2cbd1e6cb  -0.137 0.891422    \n",
       "Anon.Student.IdStu_98e7261dfe23e96d8982adfd203aa086   2.450 0.014269 *  \n",
       "Anon.Student.IdStu_9a779681b1582fd4dc330e934994ac07   1.803 0.071355 .  \n",
       "Anon.Student.IdStu_9fb3481981a38a7299e9b3c96e0d0218   1.945 0.051715 .  \n",
       "Anon.Student.IdStu_ac89a0ef007fb0c8c920b786e2822d83   5.297 1.17e-07 ***\n",
       "Anon.Student.IdStu_ac8f950f416639e014a1294ac59b4086   0.848 0.396624    \n",
       "Anon.Student.IdStu_ad3610752c4af1c3cac6638ef588e02b   4.402 1.07e-05 ***\n",
       "Anon.Student.IdStu_af3a2f63bda8c1338556108cb8d519a0  -0.821 0.411835    \n",
       "Anon.Student.IdStu_b008b6015fa6d5a8fa6a5ec1ce0405aa   0.250 0.802396    \n",
       "Anon.Student.IdStu_c0bf45c22dc46067350d304ce330067e  -2.162 0.030626 *  \n",
       "Anon.Student.IdStu_c232f8b37b15ea9fce7afc6b73df17bb   2.705 0.006829 ** \n",
       "Anon.Student.IdStu_c451386562a85a0cc50c36d6df6db731   1.082 0.279474    \n",
       "Anon.Student.IdStu_ca9efbdfd732adc02df2ab44092e1e85   2.765 0.005695 ** \n",
       "Anon.Student.IdStu_cb3d89b01d6bcca7d74386e95e3914f0  -0.460 0.645419    \n",
       "Anon.Student.IdStu_cf6b3f01b1bf297da154aaa975fbd9c1   3.549 0.000387 ***\n",
       "Anon.Student.IdStu_d172f184e6b8890fcdee6a7a3169e9c4   1.711 0.087003 .  \n",
       "Anon.Student.IdStu_d5290be96a793ac550b7d2b0b31e4244   1.362 0.173238    \n",
       "Anon.Student.IdStu_d670d7de62ee1a748b67448da3c53d8b   0.030 0.976217    \n",
       "Anon.Student.IdStu_d6eb77b7560f5f2f7ffadde7a9b7914c   0.728 0.466384    \n",
       "Anon.Student.IdStu_d7f18a5fa205a889b0c5b0b56a7127d3   1.785 0.074305 .  \n",
       "Anon.Student.IdStu_d84aa55d6a524370492c9ed6d401919a   2.648 0.008090 ** \n",
       "Anon.Student.IdStu_e0e22d49d6bb0a1fe71e19d8d60221ae   2.902 0.003705 ** \n",
       "Anon.Student.IdStu_e225ceb425b9c40773ca12f5905514aa   0.268 0.788906    \n",
       "Anon.Student.IdStu_e242582bd5729de82485e42d69e22109   3.781 0.000156 ***\n",
       "Anon.Student.IdStu_e42d78fdad8dfc176e7a103ac68d1aa8   2.197 0.028004 *  \n",
       "Anon.Student.IdStu_e49290be25bd7ce478394c7becc6c70c   3.183 0.001458 ** \n",
       "Anon.Student.IdStu_e912c6e7b2dee9a2829ef793c245a211   2.416 0.015690 *  \n",
       "Anon.Student.IdStu_f01773c1237a0acdf4170202bf5b5c32   4.554 5.25e-06 ***\n",
       "KC..Original.ALT:CIRCLE-CIRCUMFERENCE                 0.325 0.745281    \n",
       "KC..Original.ALT:CIRCLE-DIAMETER                     -1.189 0.234463    \n",
       "KC..Original.ALT:CIRCLE-RADIUS                       -3.598 0.000321 ***\n",
       "KC..Original.ALT:COMPOSE-BY-ADDITION                 -2.995 0.002747 ** \n",
       "KC..Original.ALT:COMPOSE-BY-MULTIPLICATION           -0.093 0.926119    \n",
       "KC..Original.ALT:PARALLELOGRAM-AREA                   5.459 4.78e-08 ***\n",
       "KC..Original.ALT:PARALLELOGRAM-SIDE                   3.847 0.000120 ***\n",
       "KC..Original.ALT:PENTAGON-AREA                       -3.579 0.000345 ***\n",
       "KC..Original.ALT:PENTAGON-SIDE                       -4.201 2.66e-05 ***\n",
       "KC..Original.ALT:TRAPEZOID-AREA                      -3.966 7.32e-05 ***\n",
       "KC..Original.ALT:TRAPEZOID-BASE                      -3.769 0.000164 ***\n",
       "KC..Original.ALT:TRAPEZOID-HEIGHT                    -5.089 3.60e-07 ***\n",
       "KC..Original.ALT:TRIANGLE-AREA                       -0.076 0.939317    \n",
       "KC..Original.ALT:TRIANGLE-SIDE                       -4.632 3.62e-06 ***\n",
       "Opportunity..Original.                                7.058 1.68e-12 ***\n",
       "---\n",
       "Signif. codes:  0 ‘***’ 0.001 ‘**’ 0.01 ‘*’ 0.05 ‘.’ 0.1 ‘ ’ 1\n",
       "\n",
       "(Dispersion parameter for binomial family taken to be 1)\n",
       "\n",
       "    Null deviance: 5722.7  on 5103  degrees of freedom\n",
       "Residual deviance: 5086.0  on 5030  degrees of freedom\n",
       "AIC: 5234\n",
       "\n",
       "Number of Fisher Scoring iterations: 14\n"
      ]
     },
     "execution_count": 11,
     "metadata": {},
     "output_type": "execute_result"
    }
   ],
   "source": [
    "summary(AFM_Model2)"
   ]
  },
  {
   "cell_type": "markdown",
   "id": "df43209c-8589-4c13-be28-10d401adef25",
   "metadata": {},
   "source": [
    "## Prediction on test dataset"
   ]
  },
  {
   "cell_type": "code",
   "execution_count": 12,
   "id": "e0abbe9d-530b-46d5-98ea-836f0b13673d",
   "metadata": {},
   "outputs": [
    {
     "name": "stderr",
     "output_type": "stream",
     "text": [
      "── \u001b[1mAttaching core tidyverse packages\u001b[22m ──────────────────────── tidyverse 2.0.0 ──\n",
      "\u001b[32m✔\u001b[39m \u001b[34mdplyr    \u001b[39m 1.1.4     \u001b[32m✔\u001b[39m \u001b[34mreadr    \u001b[39m 2.1.5\n",
      "\u001b[32m✔\u001b[39m \u001b[34mforcats  \u001b[39m 1.0.0     \u001b[32m✔\u001b[39m \u001b[34mstringr  \u001b[39m 1.5.1\n",
      "\u001b[32m✔\u001b[39m \u001b[34mggplot2  \u001b[39m 3.5.1     \u001b[32m✔\u001b[39m \u001b[34mtibble   \u001b[39m 3.2.1\n",
      "\u001b[32m✔\u001b[39m \u001b[34mlubridate\u001b[39m 1.9.3     \u001b[32m✔\u001b[39m \u001b[34mtidyr    \u001b[39m 1.3.1\n",
      "\u001b[32m✔\u001b[39m \u001b[34mpurrr    \u001b[39m 1.0.2     ── \u001b[1mConflicts\u001b[22m ────────────────────────────────────────── tidyverse_conflicts() ──\n",
      "\u001b[31m✖\u001b[39m \u001b[34mdplyr\u001b[39m::\u001b[32mfilter()\u001b[39m  masks \u001b[34mstats\u001b[39m::filter()\n",
      "\u001b[31m✖\u001b[39m \u001b[34mpurrr\u001b[39m::\u001b[32mflatten()\u001b[39m masks \u001b[34mjsonlite\u001b[39m::flatten()\n",
      "\u001b[31m✖\u001b[39m \u001b[34mdplyr\u001b[39m::\u001b[32mlag()\u001b[39m     masks \u001b[34mstats\u001b[39m::lag()\n",
      "\u001b[36mℹ\u001b[39m Use the conflicted package (\u001b[3m\u001b[34m<http://conflicted.r-lib.org/>\u001b[39m\u001b[23m) to force all conflicts to become errorsLade nötiges Paket: Matrix\n",
      "\n",
      "Attache Paket: ‘Matrix’\n",
      "\n",
      "Die folgenden Objekte sind maskiert von ‘package:tidyr’:\n",
      "\n",
      "    expand, pack, unpack\n",
      "\n",
      "Loaded glmnet 4.1-8\n",
      "Lade nötiges Paket: lattice\n",
      "\n",
      "Attache Paket: ‘caret’\n",
      "\n",
      "Das folgende Objekt ist maskiert ‘package:purrr’:\n",
      "\n",
      "    lift\n",
      "\n"
     ]
    }
   ],
   "source": [
    "library(tidyverse)\n",
    "library(ggplot2)\n",
    "library(glmnet)\n",
    "library(dplyr)\n",
    "library(caret)"
   ]
  },
  {
   "cell_type": "markdown",
   "id": "1c004877-3b8a-4d66-875b-3bf4be7724a2",
   "metadata": {},
   "source": [
    "According to the paper (Chounta, 2019), the test dataset should be randomly selected and comprise about 20% of the entire dataset."
   ]
  },
  {
   "cell_type": "code",
   "execution_count": 13,
   "id": "7d2d6082-52a6-4a80-9284-f4cb72e04be3",
   "metadata": {},
   "outputs": [],
   "source": [
    "i= sample.int(nrow(mydata), 102) # 5104 * 20% =102\n",
    "\n",
    "x_train  <- mydata[-i,];\n",
    "x_test  <- mydata[i,];"
   ]
  },
  {
   "cell_type": "code",
   "execution_count": 17,
   "id": "f5e1c723-317e-42e0-8139-925b0787fe8f",
   "metadata": {},
   "outputs": [],
   "source": [
    "AFM_QT <- Outcome ~ Anon.Student.Id + KC..Original. + Opportunity..Original. + Step.Duration..sec. + I(Step.Duration..sec.)^2\n",
    "QTModel <- glm(AFM_QT, family=binomial(), data= x_train);"
   ]
  },
  {
   "cell_type": "code",
   "execution_count": 18,
   "id": "1a734040-115c-4e93-9be1-92ccb8d09db2",
   "metadata": {},
   "outputs": [
    {
     "data": {
      "text/plain": [
       "     4328      2432       667       488       828      3034 \n",
       "0.7889145 0.8732411 0.8884053 0.7852685 0.7725523 0.3975969 "
      ]
     },
     "execution_count": 18,
     "metadata": {},
     "output_type": "execute_result"
    }
   ],
   "source": [
    "probabilities <- QTModel %>% predict(x_test, type = \"response\")\n",
    "head(probabilities)"
   ]
  },
  {
   "cell_type": "code",
   "execution_count": 20,
   "id": "a3598bd3-ba26-4645-976e-e02936a6e3b4",
   "metadata": {},
   "outputs": [
    {
     "name": "stdout",
     "output_type": "stream",
     "text": [
      "[1] 0.4644204\n"
     ]
    }
   ],
   "source": [
    "x_test$prediction <- ifelse(probabilities >0.5,1,0)\n",
    "rmse_value <- sqrt(mean((x_test$Outcome - x_test$prediction)^2))\n",
    "print(rmse_value)"
   ]
  },
  {
   "cell_type": "code",
   "execution_count": 21,
   "id": "3138d813-4578-43c7-be65-a214ea4154a6",
   "metadata": {},
   "outputs": [
    {
     "name": "stderr",
     "output_type": "stream",
     "text": [
      "Type 'citation(\"pROC\")' for a citation.\n",
      "\n",
      "Attache Paket: ‘pROC’\n",
      "\n",
      "Die folgenden Objekte sind maskiert von ‘package:stats’:\n",
      "\n",
      "    cov, smooth, var\n",
      "\n",
      "Setting levels: control = 0, case = 1\n",
      "Setting direction: controls < cases\n"
     ]
    },
    {
     "data": {
      "image/png": "[encoded data removed]",
      "text/plain": [
       "Plot with title “ROC Curve”"
      ]
     },
     "metadata": {
      "image/png": {
       "height": [
        420
       ],
       "width": [
        420
       ]
      }
     },
     "output_type": "display_data"
    }
   ],
   "source": [
    "library(pROC)\n",
    "roc_curve <- roc(x_test$Outcome, probabilities)\n",
    "plot(roc_curve, col = \"blue\", main = \"ROC Curve\", lwd = 2)\n",
    "abline(a = 0, b = 1, col = \"red\", lty = 2)"
   ]
  },
  {
   "cell_type": "markdown",
   "id": "c17dba1a-41f5-4b89-806b-377ed831f15c",
   "metadata": {},
   "source": [
    "### Reference\n",
    "1. Chounta, Carvalho. *Square it up! how\n",
    "to model step duration when predicting student performance.*. Proceedings of the 9th International Conference on learning an-\n",
    "alytics & knowledge, 2019."
   ]
  }
 ],
 "metadata": {
  "kernelspec": {
   "display_name": "R 4.3.1 (xr)",
   "language": "R",
   "name": "xr"
  },
  "language_info": {
   "codemirror_mode": "",
   "file_extension": "R",
   "mimetype": "text/x-R",
   "name": "R",
   "nbconvert_exporter": "",
   "pygments_lexer": "",
   "version": "4.3.1"
  }
 },
 "nbformat": 4,
 "nbformat_minor": 5
}
